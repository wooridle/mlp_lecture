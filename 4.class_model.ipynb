{
  "nbformat": 4,
  "nbformat_minor": 0,
  "metadata": {
    "colab": {
      "name": "\bclass_model.ipynb",
      "provenance": [],
      "authorship_tag": "ABX9TyPezo4/I/NMzBwkryOOT6Dn",
      "include_colab_link": true
    },
    "kernelspec": {
      "name": "python3",
      "display_name": "Python 3"
    },
    "language_info": {
      "name": "python"
    }
  },
  "cells": [
    {
      "cell_type": "markdown",
      "metadata": {
        "id": "view-in-github",
        "colab_type": "text"
      },
      "source": [
        "<a href=\"https://colab.research.google.com/github/wooridle/mlp_lecture/blob/main/%08class_model.ipynb\" target=\"_parent\"><img src=\"https://colab.research.google.com/assets/colab-badge.svg\" alt=\"Open In Colab\"/></a>"
      ]
    },
    {
      "cell_type": "code",
      "execution_count": 1,
      "metadata": {
        "id": "xO8ctmDUM2SP"
      },
      "outputs": [],
      "source": [
        "import torch\n",
        "import torch.nn as nn\n",
        "import torch.nn.functional as F"
      ]
    },
    {
      "cell_type": "code",
      "source": [
        ""
      ],
      "metadata": {
        "id": "eXWiVU8xNFSU"
      },
      "execution_count": null,
      "outputs": []
    },
    {
      "cell_type": "markdown",
      "source": [
        "## 단순 선형 회귀"
      ],
      "metadata": {
        "id": "FezD-8HsNFt3"
      }
    },
    {
      "cell_type": "code",
      "source": [
        "class LinearRegressionModel(nn.Module): # torch.nn.Module을 상속받는 파이썬 클래스\n",
        "    def __init__(self): #\n",
        "        super().__init__()\n",
        "        self.linear = nn.Linear(1, 1) # 단순 선형 회귀이므로 input_dim=1, output_dim=1.\n",
        "\n",
        "    def forward(self, x):\n",
        "        return self.linear(x)"
      ],
      "metadata": {
        "id": "QB3SNQ-MM_33"
      },
      "execution_count": 2,
      "outputs": []
    },
    {
      "cell_type": "code",
      "source": [
        "LRmodel = LinearRegressionModel()"
      ],
      "metadata": {
        "id": "7KR3XUX9NBSO"
      },
      "execution_count": 8,
      "outputs": []
    },
    {
      "cell_type": "code",
      "source": [
        "LRmodel"
      ],
      "metadata": {
        "colab": {
          "base_uri": "https://localhost:8080/"
        },
        "id": "NNXMY3bwNCXt",
        "outputId": "832f1958-21ee-48da-b2ae-92b895adced1"
      },
      "execution_count": 9,
      "outputs": [
        {
          "output_type": "execute_result",
          "data": {
            "text/plain": [
              "LinearRegressionModel(\n",
              "  (linear): Linear(in_features=1, out_features=1, bias=True)\n",
              ")"
            ]
          },
          "metadata": {},
          "execution_count": 9
        }
      ]
    },
    {
      "cell_type": "markdown",
      "source": [
        "### 다중 선형 회귀"
      ],
      "metadata": {
        "id": "Hvo-6fPzNHpm"
      }
    },
    {
      "cell_type": "code",
      "source": [
        "class MultivariateLinearRegressionModel(nn.Module):\n",
        "    def __init__(self):\n",
        "        super().__init__()\n",
        "        self.linear = nn.Linear(3, 1) # 다중 선형 회귀이므로 input_dim=3, output_dim=1.\n",
        "\n",
        "    def forward(self, x):\n",
        "        return self.linear(x)"
      ],
      "metadata": {
        "id": "burhLPtvNI1m"
      },
      "execution_count": 4,
      "outputs": []
    },
    {
      "cell_type": "code",
      "source": [
        "MVmodel = MultivariateLinearRegressionModel()"
      ],
      "metadata": {
        "id": "m39Z-Tu4NKwF"
      },
      "execution_count": 10,
      "outputs": []
    },
    {
      "cell_type": "code",
      "source": [
        "MVmodel"
      ],
      "metadata": {
        "colab": {
          "base_uri": "https://localhost:8080/"
        },
        "id": "xdRWd0fHNMru",
        "outputId": "7efbafbd-e9ab-4e9d-a155-92fd5482dd13"
      },
      "execution_count": 11,
      "outputs": [
        {
          "output_type": "execute_result",
          "data": {
            "text/plain": [
              "MultivariateLinearRegressionModel(\n",
              "  (linear): Linear(in_features=3, out_features=1, bias=True)\n",
              ")"
            ]
          },
          "metadata": {},
          "execution_count": 11
        }
      ]
    },
    {
      "cell_type": "code",
      "source": [
        "# 데이터\n",
        "x_train = torch.FloatTensor([[73, 80, 75],\n",
        "                             [93, 88, 93],\n",
        "                             [89, 91, 90],\n",
        "                             [96, 98, 100],\n",
        "                             [73, 66, 70]])\n",
        "y_train = torch.FloatTensor([[152], [185], [180], [196], [142]])"
      ],
      "metadata": {
        "id": "JiZLYDG2NxVt"
      },
      "execution_count": 14,
      "outputs": []
    },
    {
      "cell_type": "code",
      "source": [
        "optimizer = torch.optim.SGD(model.parameters(), lr=1e-5) "
      ],
      "metadata": {
        "id": "2PqJJ2zcNNhh"
      },
      "execution_count": 15,
      "outputs": []
    },
    {
      "cell_type": "code",
      "source": [
        "nb_epochs = 2000\n",
        "for epoch in range(nb_epochs+1):\n",
        "\n",
        "    # H(x) 계산\n",
        "    prediction = MVmodel(x_train)\n",
        "    # MVmodel(x_train)은 MVmodel.forward(x_train)와 동일함.\n",
        "\n",
        "    # cost 계산\n",
        "    cost = F.mse_loss(prediction, y_train) # <== 파이토치에서 제공하는 평균 제곱 오차 함수\n",
        "\n",
        "    # cost로 H(x) 개선하는 부분\n",
        "    # gradient를 0으로 초기화\n",
        "    optimizer.zero_grad()\n",
        "    # 비용 함수를 미분하여 gradient 계산\n",
        "    cost.backward()\n",
        "    # W와 b를 업데이트\n",
        "    optimizer.step()\n",
        "\n",
        "    if epoch % 100 == 0:\n",
        "    # 100번마다 로그 출력\n",
        "      print('Epoch {:4d}/{} Cost: {:.6f}'.format(\n",
        "          epoch, nb_epochs, cost.item()\n",
        "      ))"
      ],
      "metadata": {
        "colab": {
          "base_uri": "https://localhost:8080/"
        },
        "id": "fL-0hEuBNqVo",
        "outputId": "bf9304c7-1ce9-4b69-c53f-e99bf011e907"
      },
      "execution_count": 18,
      "outputs": [
        {
          "output_type": "stream",
          "name": "stdout",
          "text": [
            "Epoch    0/2000 Cost: 23981.472656\n",
            "Epoch  100/2000 Cost: 23981.472656\n",
            "Epoch  200/2000 Cost: 23981.472656\n",
            "Epoch  300/2000 Cost: 23981.472656\n",
            "Epoch  400/2000 Cost: 23981.472656\n",
            "Epoch  500/2000 Cost: 23981.472656\n",
            "Epoch  600/2000 Cost: 23981.472656\n",
            "Epoch  700/2000 Cost: 23981.472656\n",
            "Epoch  800/2000 Cost: 23981.472656\n",
            "Epoch  900/2000 Cost: 23981.472656\n",
            "Epoch 1000/2000 Cost: 23981.472656\n",
            "Epoch 1100/2000 Cost: 23981.472656\n",
            "Epoch 1200/2000 Cost: 23981.472656\n",
            "Epoch 1300/2000 Cost: 23981.472656\n",
            "Epoch 1400/2000 Cost: 23981.472656\n",
            "Epoch 1500/2000 Cost: 23981.472656\n",
            "Epoch 1600/2000 Cost: 23981.472656\n",
            "Epoch 1700/2000 Cost: 23981.472656\n",
            "Epoch 1800/2000 Cost: 23981.472656\n",
            "Epoch 1900/2000 Cost: 23981.472656\n",
            "Epoch 2000/2000 Cost: 23981.472656\n"
          ]
        }
      ]
    },
    {
      "cell_type": "code",
      "source": [
        ""
      ],
      "metadata": {
        "id": "y_pdMxqVNuXH"
      },
      "execution_count": null,
      "outputs": []
    }
  ]
}
