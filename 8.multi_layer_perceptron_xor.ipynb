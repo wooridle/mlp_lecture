{
  "nbformat": 4,
  "nbformat_minor": 0,
  "metadata": {
    "colab": {
      "name": "multi-layer_perceptron_xor.ipynb",
      "provenance": [],
      "collapsed_sections": [],
      "authorship_tag": "ABX9TyOxHzo8/+//BzYE/wHvocnh",
      "include_colab_link": true
    },
    "kernelspec": {
      "name": "python3",
      "display_name": "Python 3"
    },
    "language_info": {
      "name": "python"
    }
  },
  "cells": [
    {
      "cell_type": "markdown",
      "metadata": {
        "id": "view-in-github",
        "colab_type": "text"
      },
      "source": [
        "<a href=\"https://colab.research.google.com/github/wooridle/mlp_lecture/blob/main/8.multi_layer_perceptron_xor.ipynb\" target=\"_parent\"><img src=\"https://colab.research.google.com/assets/colab-badge.svg\" alt=\"Open In Colab\"/></a>"
      ]
    },
    {
      "cell_type": "code",
      "execution_count": 13,
      "metadata": {
        "id": "4_3v05uYzKS1"
      },
      "outputs": [],
      "source": [
        "import torch\n",
        "import torch.nn as nn\n",
        "import torch.nn.functional as F"
      ]
    },
    {
      "cell_type": "markdown",
      "source": [
        "device = 'cuda' if torch.cuda.is_available() else 'cpu'\n",
        "\n",
        "#### for reproducibility\n",
        "\n",
        "torch.manual_seed(777)\n",
        "\n",
        "if device == 'cuda':\n",
        "\n",
        "    torch.cuda.manual_seed_all(777)"
      ],
      "metadata": {
        "id": "d0ZbFUgiXSfd"
      }
    },
    {
      "cell_type": "code",
      "source": [
        ""
      ],
      "metadata": {
        "id": "JevHdIL7zX3g"
      },
      "execution_count": 46,
      "outputs": []
    },
    {
      "cell_type": "code",
      "source": [
        "X = torch.FloatTensor([[0, 0], [0, 1], [1, 0], [1, 1]]).to(device)\n",
        "Y = torch.FloatTensor([[0], [1], [1], [0]]).to(device)"
      ],
      "metadata": {
        "id": "IYRDsspwzYH6"
      },
      "execution_count": 7,
      "outputs": []
    },
    {
      "cell_type": "markdown",
      "source": [
        "class MultiLayerPerceptron(nn.Module):\n",
        "\n",
        "  def __init__(self):\n",
        "\n",
        "    super().__init__()\n",
        "\n",
        "    self.linear1 = nn.Linear(2, 10)\n",
        "\n",
        "    self.linear2 = nn.Linear(10, 10)\n",
        "\n",
        "    self.linear3 = nn.Linear(10, 10)\n",
        "\n",
        "    self.linear4 = nn.Linear(10, 1)\n",
        "\n",
        "    self.sigmoid = nn.Sigmoid()\n",
        "\n",
        "\n",
        "  def forward(self, x):\n",
        "\n",
        "    x = self.sigmoid(self.linear1(x))\n",
        "\n",
        "    x = self.sigmoid(self.linear2(x))\n",
        "\n",
        "    x = self.sigmoid(self.linear3(x))\n",
        "\n",
        "    x = self.sigmoid(self.linear4(x))\n",
        "    \n",
        "    return x\n",
        "\n",
        "\n",
        "<!-- # model = nn.Sequential(\n",
        "#           nn.Linear(2, 10, bias=True), # input_layer = 2, hidden_layer1 = 10\n",
        "#           nn.Sigmoid(),\n",
        "#           nn.Linear(10, 10, bias=True), # hidden_layer1 = 10, hidden_layer2 = 10\n",
        "#           nn.Sigmoid(),\n",
        "#           nn.Linear(10, 10, bias=True), # hidden_layer2 = 10, hidden_layer3 = 10\n",
        "#           nn.Sigmoid(),\n",
        "#           nn.Linear(10, 1, bias=True), # hidden_layer3 = 10, output_layer = 1\n",
        "#           nn.Sigmoid()\n",
        "#           ).to(device) -->"
      ],
      "metadata": {
        "id": "h-z5PI4FXW0w"
      }
    },
    {
      "cell_type": "code",
      "source": [
        ""
      ],
      "metadata": {
        "id": "KkTMM_uezZY6"
      },
      "execution_count": 46,
      "outputs": []
    },
    {
      "cell_type": "code",
      "source": [
        "model = MultiLayerPerceptron()"
      ],
      "metadata": {
        "id": "U3p_B_pJZVn4"
      },
      "execution_count": 43,
      "outputs": []
    },
    {
      "cell_type": "markdown",
      "source": [
        "criterion = torch.nn.BCELoss().to(device)\n",
        "\n",
        "optimizer = torch.optim.SGD(model.parameters(), lr=1)  # modified learning rate from 0.1 to 1"
      ],
      "metadata": {
        "id": "RcQL3VHmcFLh"
      }
    },
    {
      "cell_type": "code",
      "source": [
        ""
      ],
      "metadata": {
        "id": "7tr8hFgtza7S"
      },
      "execution_count": 44,
      "outputs": []
    },
    {
      "cell_type": "markdown",
      "source": [
        "for epoch in range(10001):\n",
        "\n",
        "    optimizer.zero_grad()\n",
        "\n",
        "    # forward 연산\n",
        "\n",
        "    hypothesis = model(X)\n",
        "\n",
        "    # 비용 함수\n",
        "\n",
        "    cost = criterion(hypothesis, Y)\n",
        "\n",
        "    cost.backward()\n",
        "    \n",
        "    optimizer.step()\n",
        "\n",
        "    # 100의 배수에 해당되는 에포크마다 비용을 출력\n",
        "    if epoch % 100 == 0:\n",
        "        print(epoch, cost.item())"
      ],
      "metadata": {
        "id": "HRPhLqlLcH4Q"
      }
    },
    {
      "cell_type": "code",
      "source": [
        ""
      ],
      "metadata": {
        "id": "QWi_L65rzccD"
      },
      "execution_count": 46,
      "outputs": []
    },
    {
      "cell_type": "markdown",
      "source": [
        "with torch.no_grad():\n",
        "\n",
        "    hypothesis = model(X)\n",
        "\n",
        "    predicted = (hypothesis > 0.5).float()\n",
        "\n",
        "    accuracy = (predicted == Y).float().mean()\n",
        "\n",
        "    print('모델의 출력값(Hypothesis): ', hypothesis.detach().cpu().numpy())\n",
        "\n",
        "    print('모델의 예측값(Predicted): ', predicted.detach().cpu().numpy())\n",
        "\n",
        "    print('실제값(Y): ', Y.cpu().numpy())\n",
        "    \n",
        "    print('정확도(Accuracy): ', accuracy.item())"
      ],
      "metadata": {
        "id": "LDQsgBLMcM8Y"
      }
    },
    {
      "cell_type": "code",
      "source": [
        ""
      ],
      "metadata": {
        "id": "8dLPI9Dnzdu0"
      },
      "execution_count": 46,
      "outputs": []
    },
    {
      "cell_type": "code",
      "source": [
        ""
      ],
      "metadata": {
        "id": "nyeFMJfIzf5J"
      },
      "execution_count": 46,
      "outputs": []
    }
  ]
}