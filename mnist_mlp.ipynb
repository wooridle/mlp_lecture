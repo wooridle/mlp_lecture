{
  "nbformat": 4,
  "nbformat_minor": 0,
  "metadata": {
    "colab": {
      "name": "mnist_mlp.ipynb",
      "provenance": [],
      "collapsed_sections": [],
      "authorship_tag": "ABX9TyNhoF0Felv1IUX5oXS3J0rJ",
      "include_colab_link": true
    },
    "kernelspec": {
      "name": "python3",
      "display_name": "Python 3"
    },
    "language_info": {
      "name": "python"
    },
    "accelerator": "GPU"
  },
  "cells": [
    {
      "cell_type": "markdown",
      "metadata": {
        "id": "view-in-github",
        "colab_type": "text"
      },
      "source": [
        "<a href=\"https://colab.research.google.com/github/wooridle/mlp_lecture/blob/main/mnist_mlp.ipynb\" target=\"_parent\"><img src=\"https://colab.research.google.com/assets/colab-badge.svg\" alt=\"Open In Colab\"/></a>"
      ]
    },
    {
      "cell_type": "code",
      "execution_count": 1,
      "metadata": {
        "id": "lh3oulplEpAW"
      },
      "outputs": [],
      "source": [
        "# import libraries\n",
        "import torch\n",
        "import numpy as np\n",
        "from torchvision import datasets\n",
        "import torchvision.transforms as transforms"
      ]
    },
    {
      "cell_type": "markdown",
      "source": [
        "# Load and Visualize the Data\n"
      ],
      "metadata": {
        "id": "Cyq68O-lP-bd"
      }
    },
    {
      "cell_type": "markdown",
      "source": [
        "### Reference : https://github.com/iam-mhaseeb/Multi-Layer-Perceptron-MNIST-with-PyTorch/blob/master/mnist_mlp_exercise.ipynb\n",
        "\n",
        "\n",
        "### number of subprocesses to use for data loading\n",
        "num_workers = 0\n",
        "### how many samples per batch to load\n",
        "batch_size = 20\n",
        "\n",
        "### convert data to torch.FloatTensor\n",
        "transform = transforms.ToTensor()\n",
        "\n",
        "### choose the training and test datasets\n",
        "train_data = datasets.MNIST(root='data', train=True,\n",
        "                                   download=True, transform=transform)\n",
        "test_data = datasets.MNIST(root='data', train=False,\n",
        "                                  download=True, transform=transform)\n",
        "\n",
        "### prepare data loaders\n",
        "train_loader = torch.utils.data.DataLoader(train_data, batch_size=batch_size,\n",
        "    num_workers=num_workers)\n",
        "test_loader = torch.utils.data.DataLoader(test_data, batch_size=batch_size, \n",
        "    num_workers=num_workers)"
      ],
      "metadata": {
        "id": "wqy2OFd6GrEC"
      }
    },
    {
      "cell_type": "code",
      "source": [
        ""
      ],
      "metadata": {
        "id": "xiFGFbh5EsQR"
      },
      "execution_count": 32,
      "outputs": []
    },
    {
      "cell_type": "markdown",
      "source": [
        "# Visualize a Batch of Training Data"
      ],
      "metadata": {
        "id": "ZQ_etU3SQB2W"
      }
    },
    {
      "cell_type": "markdown",
      "source": [
        "import matplotlib.pyplot as plt\n",
        "%matplotlib inline\n",
        "    \n",
        "#### obtain one batch of training images\n",
        "dataiter = iter(train_loader)\n",
        "\n",
        "images, labels = dataiter.next()\n",
        "\n",
        "images = images.numpy()\n",
        "\n",
        "#### plot the images in the batch, along with the corresponding labels\n",
        "\n",
        "fig = plt.figure(figsize=(25, 4))\n",
        "\n",
        "for idx in np.arange(20):\n",
        "\n",
        "    ax = fig.add_subplot(2, 20/2, idx+1, xticks=[], yticks=[])\n",
        "\n",
        "    ax.imshow(np.squeeze(images[idx]), cmap='gray')\n",
        "\n",
        "    # print out the correct label for each image\n",
        "\n",
        "    # .item() gets the value contained in a Tensor\n",
        "    \n",
        "    ax.set_title(str(labels[idx].item()))"
      ],
      "metadata": {
        "id": "e_HsRiRIIPol"
      }
    },
    {
      "cell_type": "code",
      "source": [
        ""
      ],
      "metadata": {
        "id": "ha1LQ7GwEsf6"
      },
      "execution_count": 20,
      "outputs": []
    },
    {
      "cell_type": "markdown",
      "source": [
        "# View an Image in More Detail"
      ],
      "metadata": {
        "id": "XoMFPV6UQFY_"
      }
    },
    {
      "cell_type": "markdown",
      "source": [
        "img = np.squeeze(images[1])\n",
        "\n",
        "fig = plt.figure(figsize = (12,12)) \n",
        "\n",
        "ax = fig.add_subplot(111)\n",
        "\n",
        "ax.imshow(img, cmap='gray')\n",
        "\n",
        "width, height = img.shape\n",
        "\n",
        "thresh = img.max()/2.5\n",
        "\n",
        "for x in range(width):\n",
        "\n",
        "    for y in range(height):\n",
        "\n",
        "        val = round(img[x][y],2) if img[x][y] !=0 else 0\n",
        "\n",
        "        ax.annotate(str(val), xy=(y,x),\n",
        "\n",
        "                    horizontalalignment='center',\n",
        "\n",
        "                    verticalalignment='center',\n",
        "                    \n",
        "                    color='white' if img[x][y]<thresh else 'black')"
      ],
      "metadata": {
        "id": "JZlmkloCK-Zg"
      }
    },
    {
      "cell_type": "code",
      "source": [
        ""
      ],
      "metadata": {
        "id": "Bna5mPmmEuwT"
      },
      "execution_count": 32,
      "outputs": []
    },
    {
      "cell_type": "markdown",
      "source": [
        "# Define the Network Architecture"
      ],
      "metadata": {
        "id": "3PNYz-zdQNpw"
      }
    },
    {
      "cell_type": "markdown",
      "source": [
        "import torch.nn as nn\n",
        "import torch.nn.functional as F\n",
        "\n",
        "## Define the NN architecture\n",
        "\n",
        "class Net(nn.Module):\n",
        "\n",
        "    def __init__(self):\n",
        "\n",
        "        super(Net, self).__init__()\n",
        "\n",
        "        self.fc1 = nn.Linear(28 * 28, 512)\n",
        "\n",
        "        # linear layer (n_hidden -> hidden_2)\n",
        "        self.fc2 = nn.Linear(512, 512)\n",
        "\n",
        "        # linear layer (n_hidden -> 10)\n",
        "        self.fc3 = nn.Linear(512, 10)\n",
        "\n",
        "        # dropout layer (p=0.2)\n",
        "        # dropout prevents overfitting of data\n",
        "\n",
        "        self.dropout = nn.Dropout(0.2)\n",
        "\n",
        "    def forward(self, x):\n",
        "        # flatten image input\n",
        "        x = x.view(-1, 28 * 28)\n",
        "        # add hidden layer, with relu activation function\n",
        "        x = F.relu(self.fc1(x))\n",
        "        return x\n",
        "\n",
        "#### initialize the NN\n",
        "model = Net()\n",
        "\n",
        "print(model)"
      ],
      "metadata": {
        "id": "cNnk-FaFQPMa"
      }
    },
    {
      "cell_type": "code",
      "source": [
        ""
      ],
      "metadata": {
        "id": "1sooIuH1EwVu"
      },
      "execution_count": 32,
      "outputs": []
    },
    {
      "cell_type": "markdown",
      "source": [
        "# Specify Loss Function and Optimizer"
      ],
      "metadata": {
        "id": "xxOpPth2QbkX"
      }
    },
    {
      "cell_type": "markdown",
      "source": [
        "#### Specify loss and optimization functions\n",
        "\n",
        "#### specify loss function\n",
        "criterion = nn.CrossEntropyLoss()\n",
        "\n",
        "#### specify optimizer\n",
        "optimizer = torch.optim.SGD(model.parameters(), lr=0.01)"
      ],
      "metadata": {
        "id": "2aPDdKPrQdib"
      }
    },
    {
      "cell_type": "code",
      "source": [
        ""
      ],
      "metadata": {
        "id": "F9foT64dEzbn"
      },
      "execution_count": 10,
      "outputs": []
    },
    {
      "cell_type": "markdown",
      "source": [
        "# Train the Network"
      ],
      "metadata": {
        "id": "5pTPHjcBQhoP"
      }
    },
    {
      "cell_type": "markdown",
      "source": [
        "# number of epochs to train the model\n",
        "n_epochs = 30  # suggest training between 20-50 epochs\n",
        "\n",
        "model.train() # prep model for training\n",
        "\n",
        "for epoch in range(n_epochs):\n",
        "    # monitor training loss\n",
        "    train_loss = 0.0\n",
        "    \n",
        "    ###################\n",
        "    # train the model #\n",
        "    ###################\n",
        "    for data, target in train_loader:\n",
        "        # clear the gradients of all optimized variables\n",
        "        optimizer.zero_grad()\n",
        "        # forward pass: compute predicted outputs by passing inputs to the model\n",
        "        output = model(data)\n",
        "        # calculate the loss\n",
        "        loss = criterion(output, target)\n",
        "        # backward pass: compute gradient of the loss with respect to model parameters\n",
        "        loss.backward()\n",
        "        # perform a single optimization step (parameter update)\n",
        "        optimizer.step()\n",
        "        # update running training loss\n",
        "        train_loss += loss.item()*data.size(0)\n",
        "        \n",
        "    # print training statistics \n",
        "    # calculate average loss over an epoch\n",
        "    train_loss = train_loss/len(train_loader.dataset)\n",
        "\n",
        "    print('Epoch: {} \\tTraining Loss: {:.6f}'.format(\n",
        "        epoch+1, \n",
        "        train_loss\n",
        "        ))"
      ],
      "metadata": {
        "id": "CniYLU0gQnAT"
      }
    },
    {
      "cell_type": "code",
      "source": [
        ""
      ],
      "metadata": {
        "id": "49UBBmuCE1UH"
      },
      "execution_count": 32,
      "outputs": []
    },
    {
      "cell_type": "markdown",
      "source": [
        "# Test the Trained Network\n"
      ],
      "metadata": {
        "id": "oJt6pQfrQpwF"
      }
    },
    {
      "cell_type": "markdown",
      "source": [
        "#### initialize lists to monitor test loss and accuracy\n",
        "test_loss = 0.0\n",
        "\n",
        "class_correct = list(0. for i in range(10))\n",
        "\n",
        "class_total = list(0. for i in range(10))\n",
        "\n",
        "model.eval() # prep model for *evaluation*\n",
        "\n",
        "for data, target in test_loader:\n",
        "    # forward pass: compute predicted outputs by passing inputs to the model\n",
        "    output = model(data)\n",
        "    # calculate the loss\n",
        "    loss = criterion(output, target)\n",
        "    # update test loss \n",
        "    test_loss += loss.item()*data.size(0)\n",
        "    # convert output probabilities to predicted class\n",
        "    _, pred = torch.max(output, 1)\n",
        "    # compare predictions to true label\n",
        "    correct = np.squeeze(pred.eq(target.data.view_as(pred)))\n",
        "\n",
        "    # calculate test accuracy for each object class\n",
        "    for i in range(batch_size):\n",
        "        label = target.data[i]\n",
        "        class_correct[label] += correct[i].item()\n",
        "        class_total[label] += 1\n",
        "\n",
        "# calculate and print avg test loss\n",
        "\n",
        "test_loss = test_loss/len(test_loader.dataset)\n",
        "\n",
        "print('Test Loss: {:.6f}\\n'.format(test_loss))\n",
        "\n",
        "for i in range(10):\n",
        "\n",
        "    if class_total[i] > 0:\n",
        "\n",
        "        print('Test Accuracy of %5s: %2d%% (%2d/%2d)' % (\n",
        "            str(i), 100 * class_correct[i] / class_total[i],\n",
        "            np.sum(class_correct[i]), np.sum(class_total[i])))\n",
        "\n",
        "    else:\n",
        "\n",
        "        print('Test Accuracy of %5s: N/A (no training examples)' % (classes[i]))\n",
        "\n",
        "print('\\nTest Accuracy (Overall): %2d%% (%2d/%2d)' % (\n",
        "\n",
        "    100. * np.sum(class_correct) / np.sum(class_total),\n",
        "    \n",
        "    np.sum(class_correct), np.sum(class_total)))"
      ],
      "metadata": {
        "id": "PFlXJecYQsgU"
      }
    },
    {
      "cell_type": "code",
      "source": [
        ""
      ],
      "metadata": {
        "id": "An0xP-o8E3VD"
      },
      "execution_count": 32,
      "outputs": []
    },
    {
      "cell_type": "markdown",
      "source": [
        "# Visualize Sample Test Results"
      ],
      "metadata": {
        "id": "k6ot_jo_Q5_S"
      }
    },
    {
      "cell_type": "markdown",
      "source": [
        "#### obtain one batch of test images\n",
        "\n",
        "dataiter = iter(test_loader)\n",
        "\n",
        "images, labels = dataiter.next()\n",
        "\n",
        "#### get sample outputs\n",
        "\n",
        "output = model(images)\n",
        "\n",
        "#### convert output probabilities to predicted class\n",
        "\n",
        "_, preds = torch.max(output, 1)\n",
        "\n",
        "#### prep images for display\n",
        "\n",
        "images = images.numpy()\n",
        "\n",
        "#### plot the images in the batch, along with predicted and true labels\n",
        "\n",
        "fig = plt.figure(figsize=(25, 4))\n",
        "\n",
        "for idx in np.arange(20):\n",
        "\n",
        "    ax = fig.add_subplot(2, 20/2, idx+1, xticks=[], yticks=[])\n",
        "\n",
        "    ax.imshow(np.squeeze(images[idx]), cmap='gray')\n",
        "    \n",
        "    ax.set_title(\"{} ({})\".format(str(preds[idx].item()), str(labels[idx].item())),\n",
        "\n",
        "                 color=(\"green\" if preds[idx]==labels[idx] else \"red\"))"
      ],
      "metadata": {
        "id": "ErI90C9yQ8dg"
      }
    },
    {
      "cell_type": "code",
      "source": [
        ""
      ],
      "metadata": {
        "id": "nuLoHsfAE6QZ"
      },
      "execution_count": 32,
      "outputs": []
    },
    {
      "cell_type": "code",
      "source": [
        ""
      ],
      "metadata": {
        "id": "fsLk83GfE8Je"
      },
      "execution_count": null,
      "outputs": []
    }
  ]
}